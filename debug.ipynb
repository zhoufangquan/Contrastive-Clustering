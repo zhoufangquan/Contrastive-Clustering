{
 "cells": [
  {
   "cell_type": "code",
   "execution_count": 2,
   "metadata": {},
   "outputs": [
    {
     "name": "stdout",
     "output_type": "stream",
     "text": [
      "sdfsdds\n",
      "dfdgd\n"
     ]
    }
   ],
   "source": [
    "print(f'sdfsdds\\ndfdgd')"
   ]
  }
 ],
 "metadata": {
  "kernelspec": {
   "display_name": "Python 3.7.13 ('pytorch_1.8.2')",
   "language": "python",
   "name": "python3"
  },
  "language_info": {
   "codemirror_mode": {
    "name": "ipython",
    "version": 3
   },
   "file_extension": ".py",
   "mimetype": "text/x-python",
   "name": "python",
   "nbconvert_exporter": "python",
   "pygments_lexer": "ipython3",
   "version": "3.7.13"
  },
  "orig_nbformat": 4,
  "vscode": {
   "interpreter": {
    "hash": "50c56757e379cf0b0e113ffb93243bbd1d3cb69356700db11f5c4a70172fc17f"
   }
  }
 },
 "nbformat": 4,
 "nbformat_minor": 2
}
